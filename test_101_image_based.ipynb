{
 "metadata": {
  "kernelspec": {
   "display_name": "Python 2",
   "language": "python",
   "name": "python2"
  },
  "language_info": {
   "codemirror_mode": {
    "name": "ipython",
    "version": 2
   },
   "file_extension": ".py",
   "mimetype": "text/x-python",
   "name": "python",
   "nbconvert_exporter": "python",
   "pygments_lexer": "ipython2",
   "version": "2.7.15rc1"
  },
  "name": "",
  "signature": "sha256:8273bd38c475992e6795f801c3f80de1ee1fabda17dc2b7d9195fa067fc7615a"
 },
 "nbformat": 3,
 "nbformat_minor": 0,
 "worksheets": [
  {
   "cells": [
    {
     "cell_type": "markdown",
     "metadata": {},
     "source": [
      "# Test Image based methods\n",
      "  \n",
      "---"
     ]
    },
    {
     "cell_type": "markdown",
     "metadata": {},
     "source": []
    },
    {
     "cell_type": "code",
     "collapsed": false,
     "input": [
      "import os\n",
      "import numpy as np\n",
      "import tensorflow as tf\n",
      "\n",
      "from routines import get_image_generator, misc_metrics, read_df, transform\n",
      "from networks import get_net\n",
      "\n",
      "from time import time\n",
      "from plotting import plot_images, plt\n",
      "%pylab inline"
     ],
     "language": "python",
     "metadata": {},
     "outputs": []
    },
    {
     "cell_type": "code",
     "collapsed": false,
     "input": [
      "BASE_PATH = os.path.expanduser(\"~/PhD/python/patch2image/\")  \n",
      "DATA_SET = 'IDRiD'\n",
      "DATA_DIR = os.path.expanduser(\"~/PhD/Datasets/\"+DATA_SET+\"/\") \n",
      "\n",
      "test_names_file = os.path.join(BASE_PATH, 'datasets', DATA_SET, 'test_names.txt')\n",
      "database_dir    = '/home/tramx/PhD/Datasets/'+DATA_SET+'/'\n",
      "model_path = os.path.join(BASE_PATH, 'trained_models', DATA_SET, 'seg_101_idrid_bce_dice_gray_clahe_gamma_munet_save_model.hdf5')\n",
      "\n",
      "image_shapes_dict = ['STARE': (508, 600, 1), 'CHASE': (460, 500, 1), 'IDRiD': (284, 428, 1), 'DRIVE': (584, 568, 1)]\n",
      "in_shape = image_shapes_dict[DATA_SET]\n",
      "batch_size = 1\n",
      "clahe    = True\n",
      "gray     = True\n",
      "gamma    = 1.7\n",
      "net_name = 'dense'"
     ],
     "language": "python",
     "metadata": {},
     "outputs": []
    },
    {
     "cell_type": "code",
     "collapsed": false,
     "input": [
      "model = get_net(net_name, in_shape, cout=1)\n",
      "model.load_weights(model_path)"
     ],
     "language": "python",
     "metadata": {},
     "outputs": []
    },
    {
     "cell_type": "code",
     "collapsed": false,
     "input": [
      "x_test_paths, y_test_paths = read_df(test_names_file, DATA_DIR)\n",
      "test_data = get_image_generator(x_test_paths, y_test_paths, #resize=in_shape[:2],\n",
      "                    gamma=gamma, gray=gray, clahe=clahe,\n",
      "                        batch_size=batch_size) "
     ],
     "language": "python",
     "metadata": {},
     "outputs": []
    },
    {
     "cell_type": "code",
     "collapsed": false,
     "input": [
      "seg_metrics = [] \n",
      "preds = []\n",
      "gts = []\n",
      "ims = []\n",
      "times = []\n",
      "for i in range(len(x_test_paths)):\n",
      "    im, gt = test_data.next()\n",
      "    gts.append(gt)\n",
      "    ims.append(im)\n",
      "    im = transform.resize(np.squeeze(im), in_shape[:2])\n",
      "    im = np.expand_dims(im[np.newaxis], -1) \n",
      "    pred = model.predict(im, batch_size=1, verbose=1) \n",
      "    pred = transform.resize(np.squeeze(pred), np.squeeze(gt).shape)\n",
      "    preds.append(pred)\n",
      "    gt = np.squeeze(gt)\n",
      "    seg_metrics.append(misc_metrics(gt, preds[-1]))\n",
      "    print seg_metrics[-1]\n",
      "r = np.mean(seg_metrics,0)\n",
      "print('Final metrics: AUC={0:.4f}, Spec={1:.4f}, Sens={2:.4f}, Acc={3:.4f}, Dice={4:.4f}, Jac={5:.4f}'.format(r[0], r[1], r[2], r[3], r[4], r[5]))\n",
      "print('Mean time: {:.4f}'.format(np.mean(times)))"
     ],
     "language": "python",
     "metadata": {},
     "outputs": []
    },
    {
     "cell_type": "code",
     "collapsed": false,
     "input": [
      "plot_images(preds[:6], title=None, figsize=(10,10), cmap=plt.cm.gray) "
     ],
     "language": "python",
     "metadata": {},
     "outputs": []
    },
    {
     "cell_type": "code",
     "collapsed": false,
     "input": [
      "plot_images(gts[:6], title='', figsize=(10,10), cmap=plt.cm.gray) "
     ],
     "language": "python",
     "metadata": {},
     "outputs": []
    },
    {
     "cell_type": "code",
     "collapsed": false,
     "input": [
      "plot_images(ims[:6], title='', figsize=(20,20), cmap=plt.cm.gray) "
     ],
     "language": "python",
     "metadata": {},
     "outputs": []
    },
    {
     "cell_type": "code",
     "collapsed": false,
     "input": [],
     "language": "python",
     "metadata": {},
     "outputs": []
    }
   ],
   "metadata": {}
  }
 ]
}