{
 "metadata": {
  "name": "",
  "signature": "sha256:8896cfe7d418824110d9e0295849c6805fa5fa7a0cd28ed7c9a9e684fd8258af"
 },
 "nbformat": 3,
 "nbformat_minor": 0,
 "worksheets": [
  {
   "cells": [
    {
     "cell_type": "heading",
     "level": 1,
     "metadata": {},
     "source": [
      "Segmentation 101 (Image-based)"
     ]
    },
    {
     "cell_type": "markdown",
     "metadata": {},
     "source": [
      "This notebook "
     ]
    },
    {
     "cell_type": "heading",
     "level": 3,
     "metadata": {},
     "source": [
      "Imports"
     ]
    },
    {
     "cell_type": "code",
     "collapsed": false,
     "input": [
      "\n",
      "import os\n",
      "import functools\n",
      "import numpy as np\n",
      "import tensorflow as tf\n",
      "import pandas as pd\n",
      "rng = np.random.seed(100)\n",
      "from sklearn.model_selection import train_test_split\n",
      "from sklearn import metrics\n",
      "\n",
      "from skimage import io, transform, exposure, filters, color\n",
      "\n",
      "from networks import get_net \n",
      " \n",
      "config = tf.ConfigProto()\n",
      "config.gpu_options.allow_growth = True\n",
      "tf.keras.backend.set_session(tf.Session(config=config))  \n"
     ],
     "language": "python",
     "metadata": {},
     "outputs": [],
     "prompt_number": 1
    },
    {
     "cell_type": "heading",
     "level": 3,
     "metadata": {},
     "source": [
      "Metrics"
     ]
    },
    {
     "cell_type": "code",
     "collapsed": false,
     "input": [
      "def misc_seg_metrics(pred, ann):    \n",
      "    \"\"\" Compute the spec, sens, acc  between two ndarrays.\n",
      "    \"\"\"\n",
      "    acc = [((pred==j)*(ann==j)).sum(dtype='float')/(ann==j).sum() for j in np.unique(ann)] \n",
      "    acc.append((pred==ann).sum()/float(ann.size))  \n",
      "    return acc \n",
      "    \n",
      "def misc_jaccard_index(pred, ann):\n",
      "    intersection = pred*ann\n",
      "    union = np.maximum(pred, ann)\n",
      "    return np.sum(intersection.astype(float))/np.sum(union)\n",
      "\n",
      "def misc_metrics(gt, pr, ma=None, thrs= 0.5):\n",
      "    assert(gt.size == pr.size)\n",
      "    if ma is None:\n",
      "        ma = np.ones(gt.shape, dtype=bool)\n",
      "    ma = np.ravel(ma).astype(bool)\n",
      "    gt = np.ravel(gt)\n",
      "    pr = np.ravel(pr)  \n",
      "    gt = gt[ma] \n",
      "    pr = pr[ma] \n",
      "    auc = metrics.roc_auc_score(gt, pr)  \n",
      "    p = (pr>=thrs).astype(int)\n",
      "    mets = misc_seg_metrics(p, gt)\n",
      "    f1 = metrics.f1_score(gt, p)\n",
      "    jac = misc_jaccard_index(p, gt) \n",
      "    return [auc, mets[0], mets[1], mets[2], f1, jac]"
     ],
     "language": "python",
     "metadata": {},
     "outputs": [],
     "prompt_number": 2
    },
    {
     "cell_type": "heading",
     "level": 3,
     "metadata": {},
     "source": [
      "Path processing and train-val splitting"
     ]
    },
    {
     "cell_type": "code",
     "collapsed": false,
     "input": [
      "def read_df(fpath, data_dir):\n",
      "    df_train = pd.read_csv(fpath)\n",
      "    x_paths = df_train['im_name'].map(lambda s: os.path.join(data_dir,s))\n",
      "    y_paths = df_train['gt_name'].map(lambda s: os.path.join(data_dir,s))\n",
      "    return x_paths, y_paths\n",
      "\n",
      "### Training-Validation splits\n",
      "def trainval_splits(ftrain, data_dir, validation_split=0.2, random_state=rng):\n",
      "    x_train_paths, y_train_paths = read_df(ftrain, data_dir) \n",
      "    return train_test_split(x_train_paths, y_train_paths, \n",
      "                            test_size=validation_split,\n",
      "                            random_state=random_state)\n",
      "\n",
      "def _process_pathnames(fname, lname, resize=None):  \n",
      "    img = io.imread(fname)\n",
      "    gt = io.imread(lname)\n",
      "    if gt.ndim < 3:\n",
      "        gt  = np.expand_dims(gt, -1)\n",
      "    gt = gt[...,:1]\n",
      "    gt = (gt > 0).astype(int) # binarize the ground-truth\n",
      "    if resize is not None:\n",
      "        img = transform.resize(img, resize)\n",
      "        gt = transform.resize(gt, resize)\n",
      "        gt = gt >= filters.threshold_otsu(gt)\n",
      "    return img, gt "
     ],
     "language": "python",
     "metadata": {},
     "outputs": [],
     "prompt_number": 3
    },
    {
     "cell_type": "heading",
     "level": 3,
     "metadata": {},
     "source": [
      "Data augmentation routines"
     ]
    },
    {
     "cell_type": "code",
     "collapsed": false,
     "input": [
      "### Data augmentation routines\n",
      "def shift_img(img, gt, width_shift_range, height_shift_range, rotate_range): \n",
      "    if width_shift_range  or height_shift_range:\n",
      "        if width_shift_range:\n",
      "            width_shift_range = np.random.uniform(-width_shift_range * img.shape[1],\n",
      "                                                   width_shift_range * img.shape[1])\n",
      "        if height_shift_range:\n",
      "            height_shift_range = np.random.uniform(-height_shift_range * img.shape[0],\n",
      "                                                   height_shift_range * img.shape[0]) \n",
      "        tr = transform.AffineTransform(translation=(width_shift_range, height_shift_range )) \n",
      "        img = transform.warp(img, tr, preserve_range=True)\n",
      "        gt   = transform.warp(gt, tr, preserve_range=True)\n",
      "        \n",
      "    if rotate_range :\n",
      "        if isinstance(rotate_range, np.ScalarType):\n",
      "            degre = np.random.uniform(-rotate_range,rotate_range)\n",
      "        else:\n",
      "            degre = np.random.uniform(rotate_range[0], rotate_range[1])\n",
      "        img = transform.rotate(img, degre, preserve_range=True)\n",
      "        gt  = transform.rotate(gt, degre, preserve_range=True)\n",
      "        \n",
      "    return img, gt\n",
      "\n",
      "def flip_img(img, gt, horizontal_flip, vertical_flip):\n",
      "    if horizontal_flip:\n",
      "        flip_prob = np.random.uniform(0.0, 1.0)\n",
      "        img, gt = (img, gt) if flip_prob >= 0.5 else (np.flip(img, 1), np.flip(gt, 1))\n",
      "    if vertical_flip:\n",
      "        flip_prob = np.random.uniform(0.0, 1.0)\n",
      "        img, gt = (img, gt) if flip_prob >= 0.5 else (np.flip(img, 0), np.flip(gt, 0))\n",
      "    return img, gt\n",
      "\n",
      "def _process_img(img, gt, gamma=0,\n",
      "                clahe=False, gray=False, xyz=False, hed=False,\n",
      "                horizontal_flip=False, width_shift_range=0,\n",
      "                height_shift_range=0, vertical_flip=0, rotate_range=0):\n",
      "    img = exposure.rescale_intensity(img.astype(float), out_range=(0,1))\n",
      "    if gray:\n",
      "        img = color.rgb2gray(img)\n",
      "    if xyz:\n",
      "        img = color.rgb2xyz(img)\n",
      "    if hed:\n",
      "        img = color.rgb2hed(img)\n",
      "    img = exposure.rescale_intensity(img, out_range=(0,1))\n",
      "    if clahe:\n",
      "        img = exposure.equalize_adapthist(img)\n",
      "    if gamma:\n",
      "        img = exposure.adjust_gamma(img, gamma)\n",
      "        img = exposure.rescale_intensity(img, out_range=(0,1))\n",
      "    if img.ndim == 2:\n",
      "        img = np.expand_dims(img, -1) \n",
      "\n",
      "    img, gt = flip_img(img, gt, horizontal_flip, vertical_flip)    \n",
      "    img, gt = shift_img(img, gt, width_shift_range, height_shift_range, rotate_range) \n",
      "         \n",
      "    return img, gt\n",
      " "
     ],
     "language": "python",
     "metadata": {},
     "outputs": [],
     "prompt_number": 4
    },
    {
     "cell_type": "heading",
     "level": 3,
     "metadata": {},
     "source": [
      "Data generator"
     ]
    },
    {
     "cell_type": "code",
     "collapsed": false,
     "input": [
      "def _generator(im_paths, gt_paths, \n",
      "              reader_fn=functools.partial(_process_pathnames),\n",
      "              preproc_fn=functools.partial(_process_img),\n",
      "              batch_size=1, \n",
      "              MAX_IM_QUEUE=20):  \n",
      "    batch_x = []\n",
      "    batch_y = []\n",
      "    im_stack = dict() \n",
      "    while True:  \n",
      "        for im_path, gt_path in zip(im_paths, gt_paths) :   \n",
      "            hash_im = hash(im_path)\n",
      "            if not im_stack.has_key(hash_im):\n",
      "                img, gt = reader_fn(im_path, gt_path) \n",
      "                if len(im_stack.keys()) > MAX_IM_QUEUE:\n",
      "                    im_stack.popitem()\n",
      "                im_stack[hash_im] = (img, gt)\n",
      "            else:\n",
      "                img, gt = im_stack[hash_im] \n",
      "\n",
      "            pr_im, pr_gt  = preproc_fn(img, gt)   \n",
      "\n",
      "            if len(batch_x) < batch_size:\n",
      "                batch_x.append(pr_im)\n",
      "                batch_y.append(pr_gt)\n",
      "            else:\n",
      "                ret = (np.array(batch_x), np.array(batch_y))\n",
      "                batch_x, batch_y = [pr_im], [pr_gt]\n",
      "                yield ret \n",
      "\n",
      "\n",
      "def get_gen(x_train_paths, y_train_paths, batch_size=1,\n",
      "            width_shift_range=0, height_shift_range=0, \n",
      "            horizontal_flip=False,vertical_flip=False,\n",
      "            rotate_range=0, resize=None,\n",
      "            gamma=0, clahe=False, gray=False, xyz=False, hed=False,\n",
      "            MAX_IM_QUEUE=100):\n",
      " \n",
      "    prepro_cfg = dict(gamma=gamma, clahe=clahe,\n",
      "                    gray=gray, xyz=xyz, hed=hed, horizontal_flip=horizontal_flip,\n",
      "                    vertical_flip=vertical_flip, width_shift_range=width_shift_range,\n",
      "                    height_shift_range=height_shift_range)\n",
      "    prepro_fn = functools.partial(_process_img, **prepro_cfg)  \n",
      "\n",
      "    reader_cfg = dict(resize=resize)\n",
      "    reader_fn = functools.partial(_process_pathnames, **reader_cfg)\n",
      "\n",
      "    return _generator(x_train_paths, y_train_paths, reader_fn=reader_fn,\n",
      "                    preproc_fn=prepro_fn, batch_size=batch_size, MAX_IM_QUEUE=MAX_IM_QUEUE)"
     ],
     "language": "python",
     "metadata": {},
     "outputs": [],
     "prompt_number": 5
    },
    {
     "cell_type": "heading",
     "level": 3,
     "metadata": {},
     "source": [
      "Model training "
     ]
    },
    {
     "cell_type": "code",
     "collapsed": false,
     "input": [
      "class Arguments:\n",
      "    def __init__(self,\n",
      "                nepochs = 500,\n",
      "                report_step = 5,\n",
      "                batch_size = 1,\n",
      "                validation = 0.2,  \n",
      "                in_shape = (576, 576, 3), \n",
      "                net_loss = 'binary_crossentropy',\n",
      "                net_opt = 'adadelta',\n",
      "                net_lr = 1.,\n",
      "                net_name = 'deconv',\n",
      "                save_dir = '',\n",
      "                database_dir = '',\n",
      "                ftrain = '',\n",
      "                ftest = '',\n",
      "                pretrain='',\n",
      "                gamma=0, \n",
      "                clahe = False,\n",
      "                gray = False,\n",
      "                xyz=False,\n",
      "                hed=False,\n",
      "                rotate_range=0,\n",
      "                save_prefix='', \n",
      "                cout=1): \n",
      "        self.gray = gray\n",
      "        self.xyz = xyz\n",
      "        self.hed = hed\n",
      "        self.gamma = gamma\n",
      "        self.clahe = clahe  \n",
      "        self.rotate_range = rotate_range  \n",
      "        self.cout = cout\n",
      "        self.nepochs = nepochs\n",
      "        self.report_step = report_step\n",
      "        self.batch_size = batch_size\n",
      "        self.validation = validation \n",
      "        self.in_shape = in_shape \n",
      "        self.net_loss = net_loss\n",
      "        self.net_opt = net_opt\n",
      "        self.net_lr = net_lr\n",
      "        self.net_name = net_name\n",
      "        self.save_dir = save_dir\n",
      "        self.database_dir = database_dir\n",
      "        self.ftrain = ftrain \n",
      "        self.ftest = ftest\n",
      "        self.pretrain=pretrain\n",
      "        self.save_prefix=save_prefix "
     ],
     "language": "python",
     "metadata": {},
     "outputs": [],
     "prompt_number": 6
    },
    {
     "cell_type": "code",
     "collapsed": false,
     "input": [
      "def train_and_save(args):\n",
      "    x_train_paths, x_val_paths, y_train_paths, y_val_paths = \\\n",
      "    trainval_splits(args.ftrain, args.database_dir, args.validation)\n",
      " \n",
      "    train_gen = get_gen(x_train_paths, y_train_paths, batch_size=args.batch_size,\n",
      "                        width_shift_range=0.1, height_shift_range=0.1,\n",
      "                        horizontal_flip=True, vertical_flip=True,\n",
      "                        gamma=args.gamma, clahe=args.clahe, gray=args.gray, xyz=args.xyz,hed=args.hed,\n",
      "                        resize=args.in_shape[:2], rotate_range=args.rotate_range) \n",
      "    \n",
      "    val_gen = get_gen(x_val_paths, y_val_paths, batch_size=args.batch_size,\n",
      "                    gamma=args.gamma, clahe=args.clahe, gray=args.gray, xyz=args.xyz,hed=args.hed,\n",
      "                    resize=args.in_shape[:2]) \n",
      "    \n",
      "    pref = ''\n",
      "    if args.gray:\n",
      "        pref += '_gray'\n",
      "    if args.xyz:\n",
      "        pref += '_xyz'\n",
      "    if args.hed:\n",
      "        pref += '_hed'\n",
      "    if args.clahe:\n",
      "        pref += '_clahe'\n",
      "    if args.gamma:\n",
      "        pref += '_gamma'\n",
      "    if 'seg_102' in args.pretrain:\n",
      "        pref += '_p2i'\n",
      "\n",
      "    model = get_net(args.net_name, args.in_shape, cout=args.cout, opt=args.net_opt, \n",
      "                    loss=args.net_loss, lr=args.net_lr)\n",
      "    if os.path.exists(args.pretrain):\n",
      "        model.load_weights(args.pretrain)\n",
      "        print('++++ Pretraining from: ', args.pretrain)\n",
      "    save_model_path  = os.path.join(args.save_dir, args.save_prefix+pref+'_'+args.net_name+'_save_model') \n",
      "    report_file_path = os.path.join(args.save_dir, args.save_prefix+pref+'_'+args.net_name+'_report_file.csv')\n",
      "    mckpt = tf.keras.callbacks.ModelCheckpoint(filepath=save_model_path+'.hdf5',\n",
      "                                            monitor='val_loss',\n",
      "                                            save_best_only=True,\n",
      "                                            verbose=1) \n",
      "    \n",
      "    early_stop = tf.keras.callbacks.EarlyStopping(monitor='val_loss', min_delta=1e-5, patience= 6 * args.report_step, verbose=1) \n",
      "    rlr = tf.keras.callbacks.ReduceLROnPlateau(monitor='val_loss', factor=0.2, patience=5, min_lr=0.00001)\n",
      "    tb = tf.keras.callbacks.TensorBoard(save_model_path)\n",
      "    csvlog = tf.keras.callbacks.CSVLogger(report_file_path, append=True)  \n",
      "\n",
      "    model.fit_generator(train_gen, shuffle=False, use_multiprocessing=False, workers=3,\n",
      "                        steps_per_epoch= 5 * len(x_train_paths)//args.batch_size + 1,\n",
      "                        epochs=args.nepochs, validation_data=val_gen, \n",
      "                        validation_steps=len(x_val_paths)//args.batch_size,\n",
      "                        callbacks=[mckpt, rlr, tb, csvlog]) \n",
      "\n",
      "    return model"
     ],
     "language": "python",
     "metadata": {},
     "outputs": [],
     "prompt_number": 7
    },
    {
     "cell_type": "heading",
     "level": 3,
     "metadata": {},
     "source": [
      "Training"
     ]
    },
    {
     "cell_type": "code",
     "collapsed": false,
     "input": [
      "BASE_PATH = os.path.expanduser(\"~/PhD/python/patch2image/\")  \n",
      "DATA_SET  = 'DRIVE'\n",
      "DATA_DIR  = os.path.expanduser(\"~/PhD/Datasets/\"+DATA_SET+\"/\") \n",
      "\n",
      "train_image_names = BASE_PATH+'datasets/'+DATA_SET+'/train_names.txt'\n",
      "test_image_names  = BASE_PATH+'datasets/'+DATA_SET+'/test_names.txt'\n",
      "\n",
      "save_dir    = os.path.join(BASE_PATH, 'outputs', DATA_SET)\n",
      "save_prefix = 'seg_101_'+DATA_SET.lower()+'_bce_dice'\n",
      "\n",
      "image_shapes_dict = {'STARE': (508, 600, 1), 'CHASE': (460, 500, 1), 'IDRiD': (284, 428, 1), 'DRIVE': (584, 568, 1)}\n",
      "in_shape          = image_shapes_dict[DATA_SET]\n",
      "\n",
      "nb_epochs     = 1\n",
      "net_optimizer = 'adadelta'\n",
      "net_lr        = 1.\n",
      "net_loss      = 'bce_dice'\n",
      "net_name      = 'light'"
     ],
     "language": "python",
     "metadata": {},
     "outputs": [],
     "prompt_number": 8
    },
    {
     "cell_type": "code",
     "collapsed": false,
     "input": [
      "params = Arguments(net_name = net_name,\n",
      "                    nepochs = nb_epochs,\n",
      "                    net_opt = net_optimizer, \n",
      "                    net_lr = net_lr, \n",
      "                    net_loss =net_loss,\n",
      "                    save_prefix = save_prefix,\n",
      "                    pretrain = '',  # training from scratch\n",
      "                    in_shape = in_shape,\n",
      "                    save_dir = save_dir,\n",
      "                    database_dir = DATA_DIR,\n",
      "                    ftrain = train_image_names,\n",
      "                    ftest = test_image_names,\n",
      "                    gamma = 1.7, \n",
      "                    clahe = True,\n",
      "                    gray = True,) "
     ],
     "language": "python",
     "metadata": {},
     "outputs": [],
     "prompt_number": 9
    },
    {
     "cell_type": "code",
     "collapsed": false,
     "input": [
      "trained_model = train_and_save(params)  "
     ],
     "language": "python",
     "metadata": {},
     "outputs": [
      {
       "output_type": "stream",
       "stream": "stdout",
       "text": [
        "Epoch 1/1\n"
       ]
      },
      {
       "output_type": "stream",
       "stream": "stdout",
       "text": [
        "\r",
        " 1/81 [..............................] - ETA: 3:37 - loss: 1.5308 - acc: 0.8616"
       ]
      },
      {
       "output_type": "stream",
       "stream": "stdout",
       "text": [
        "\b\b\b\b\b\b\b\b\b\b\b\b\b\b\b\b\b\b\b\b\b\b\b\b\b\b\b\b\b\b\b\b\b\b\b\b\b\b\b\b\b\b\b\b\b\b\b\b\b\b\b\b\b\b\b\b\b\b\b\b\b\b\b\b\b\b\b\b\b\b\b\b\b\b\b\b\b\b\b\r",
        " 2/81 [..............................] - ETA: 2:29 - loss: 1.5346 - acc: 0.8674"
       ]
      },
      {
       "output_type": "stream",
       "stream": "stdout",
       "text": [
        "\b\b\b\b\b\b\b\b\b\b\b\b\b\b\b\b\b\b\b\b\b\b\b\b\b\b\b\b\b\b\b\b\b\b\b\b\b\b\b\b\b\b\b\b\b\b\b\b\b\b\b\b\b\b\b\b\b\b\b\b\b\b\b\b\b\b\b\b\b\b\b\b\b\b\b\b\b\b\b\r",
        " 3/81 [>.............................] - ETA: 2:03 - loss: 1.5343 - acc: 0.8715"
       ]
      },
      {
       "output_type": "stream",
       "stream": "stdout",
       "text": [
        "\b\b\b\b\b\b\b\b\b\b\b\b\b\b\b\b\b\b\b\b\b\b\b\b\b\b\b\b\b\b\b\b\b\b\b\b\b\b\b\b\b\b\b\b\b\b\b\b\b\b\b\b\b\b\b\b\b\b\b\b\b\b\b\b\b\b\b\b\b\b\b\b\b\b\b\b\b\b\b\r",
        " 4/81 [>.............................] - ETA: 1:49 - loss: 1.5308 - acc: 0.8714"
       ]
      },
      {
       "output_type": "stream",
       "stream": "stdout",
       "text": [
        "\b\b\b\b\b\b\b\b\b\b\b\b\b\b\b\b\b\b\b\b\b\b\b\b\b\b\b\b\b\b\b\b\b\b\b\b\b\b\b\b\b\b\b\b\b\b\b\b\b\b\b\b\b\b\b\b\b\b\b\b\b\b\b\b\b\b\b\b\b\b\b\b\b\b\b\b\b\b\b\r",
        " 5/81 [>.............................] - ETA: 1:41 - loss: 1.5301 - acc: 0.8743"
       ]
      },
      {
       "output_type": "stream",
       "stream": "stdout",
       "text": [
        "\b\b\b\b\b\b\b\b\b\b\b\b\b\b\b\b\b\b\b\b\b\b\b\b\b\b\b\b\b\b\b\b\b\b\b\b\b\b\b\b\b\b\b\b\b\b\b\b\b\b\b\b\b\b\b\b\b\b\b\b\b\b\b\b\b\b\b\b\b\b\b\b\b\b\b\b\b\b\b\r",
        " 6/81 [=>............................] - ETA: 1:34 - loss: 1.5268 - acc: 0.8760"
       ]
      },
      {
       "output_type": "stream",
       "stream": "stdout",
       "text": [
        "\b\b\b\b\b\b\b\b\b\b\b\b\b\b\b\b\b\b\b\b\b\b\b\b\b\b\b\b\b\b\b\b\b\b\b\b\b\b\b\b\b\b\b\b\b\b\b\b\b\b\b\b\b\b\b\b\b\b\b\b\b\b\b\b\b\b\b\b\b\b\b\b\b\b\b\b\b\b\b\r",
        " 7/81 [=>............................] - ETA: 1:30 - loss: 1.5223 - acc: 0.8772"
       ]
      },
      {
       "output_type": "stream",
       "stream": "stdout",
       "text": [
        "\b\b\b\b\b\b\b\b\b\b\b\b\b\b\b\b\b\b\b\b\b\b\b\b\b\b\b\b\b\b\b\b\b\b\b\b\b\b\b\b\b\b\b\b\b\b\b\b\b\b\b\b\b\b\b\b\b\b\b\b\b\b\b\b\b\b\b\b\b\b\b\b\b\b\b\b\b\b\b\r",
        " 8/81 [=>............................] - ETA: 1:26 - loss: 1.5164 - acc: 0.8785"
       ]
      },
      {
       "output_type": "stream",
       "stream": "stdout",
       "text": [
        "\b\b\b\b\b\b\b\b\b\b\b\b\b\b\b\b\b\b\b\b\b\b\b\b\b\b\b\b\b\b\b\b\b\b\b\b\b\b\b\b\b\b\b\b\b\b\b\b\b\b\b\b\b\b\b\b\b\b\b\b\b\b\b\b\b\b\b\b\b\b\b\b\b\b\b\b\b\b\b\r",
        " 9/81 [==>...........................] - ETA: 1:23 - loss: 1.5110 - acc: 0.8822"
       ]
      },
      {
       "output_type": "stream",
       "stream": "stdout",
       "text": [
        "\b\b\b\b\b\b\b\b\b\b\b\b\b\b\b\b\b\b\b\b\b\b\b\b\b\b\b\b\b\b\b\b\b\b\b\b\b\b\b\b\b\b\b\b\b\b\b\b\b\b\b\b\b\b\b\b\b\b\b\b\b\b\b\b\b\b\b\b\b\b\b\b\b\b\b\b\b\b\b\r",
        "10/81 [==>...........................] - ETA: 1:20 - loss: 1.5002 - acc: 0.8812"
       ]
      },
      {
       "output_type": "stream",
       "stream": "stdout",
       "text": [
        "\b\b\b\b\b\b\b\b\b\b\b\b\b\b\b\b\b\b\b\b\b\b\b\b\b\b\b\b\b\b\b\b\b\b\b\b\b\b\b\b\b\b\b\b\b\b\b\b\b\b\b\b\b\b\b\b\b\b\b\b\b\b\b\b\b\b\b\b\b\b\b\b\b\b\b\b\b\b\b\r",
        "11/81 [===>..........................] - ETA: 1:18 - loss: 1.4902 - acc: 0.8841"
       ]
      },
      {
       "output_type": "stream",
       "stream": "stdout",
       "text": [
        "\b\b\b\b\b\b\b\b\b\b\b\b\b\b\b\b\b\b\b\b\b\b\b\b\b\b\b\b\b\b\b\b\b\b\b\b\b\b\b\b\b\b\b\b\b\b\b\b\b\b\b\b\b\b\b\b\b\b\b\b\b\b\b\b\b\b\b\b\b\b\b\b\b\b\b\b\b\b\b\r",
        "12/81 [===>..........................] - ETA: 1:16 - loss: 1.4762 - acc: 0.8852"
       ]
      },
      {
       "output_type": "stream",
       "stream": "stdout",
       "text": [
        "\b\b\b\b\b\b\b\b\b\b\b\b\b\b\b\b\b\b\b\b\b\b\b\b\b\b\b\b\b\b\b\b\b\b\b\b\b\b\b\b\b\b\b\b\b\b\b\b\b\b\b\b\b\b\b\b\b\b\b\b\b\b\b\b\b\b\b\b\b\b\b\b\b\b\b\b\b\b\b\r",
        "13/81 [===>..........................] - ETA: 1:13 - loss: 1.4598 - acc: 0.8826"
       ]
      },
      {
       "output_type": "stream",
       "stream": "stdout",
       "text": [
        "\b\b\b\b\b\b\b\b\b\b\b\b\b\b\b\b\b\b\b\b\b\b\b\b\b\b\b\b\b\b\b\b\b\b\b\b\b\b\b\b\b\b\b\b\b\b\b\b\b\b\b\b\b\b\b\b\b\b\b\b\b\b\b\b\b\b\b\b\b\b\b\b\b\b\b\b\b\b\b\r",
        "14/81 [====>.........................] - ETA: 1:11 - loss: 1.4438 - acc: 0.8812"
       ]
      },
      {
       "output_type": "stream",
       "stream": "stdout",
       "text": [
        "\b\b\b\b\b\b\b\b\b\b\b\b\b\b\b\b\b\b\b\b\b\b\b\b\b\b\b\b\b\b\b\b\b\b\b\b\b\b\b\b\b\b\b\b\b\b\b\b\b\b\b\b\b\b\b\b\b\b\b\b\b\b\b\b\b\b\b\b\b\b\b\b\b\b\b\b\b\b\b\r",
        "15/81 [====>.........................] - ETA: 1:09 - loss: 1.4300 - acc: 0.8785"
       ]
      },
      {
       "output_type": "stream",
       "stream": "stdout",
       "text": [
        "\b\b\b\b\b\b\b\b\b\b\b\b\b\b\b\b\b\b\b\b\b\b\b\b\b\b\b\b\b\b\b\b\b\b\b\b\b\b\b\b\b\b\b\b\b\b\b\b\b\b\b\b\b\b\b\b\b\b\b\b\b\b\b\b\b\b\b\b\b\b\b\b\b\b\b\b\b\b\b\r",
        "16/81 [====>.........................] - ETA: 1:08 - loss: 1.4160 - acc: 0.8787"
       ]
      },
      {
       "output_type": "stream",
       "stream": "stdout",
       "text": [
        "\b\b\b\b\b\b\b\b\b\b\b\b\b\b\b\b\b\b\b\b\b\b\b\b\b\b\b\b\b\b\b\b\b\b\b\b\b\b\b\b\b\b\b\b\b\b\b\b\b\b\b\b\b\b\b\b\b\b\b\b\b\b\b\b\b\b\b\b\b\b\b\b\b\b\b\b\b\b\b\r",
        "17/81 [=====>........................] - ETA: 1:06 - loss: 1.4042 - acc: 0.8779"
       ]
      },
      {
       "output_type": "stream",
       "stream": "stdout",
       "text": [
        "\b\b\b\b\b\b\b\b\b\b\b\b\b\b\b\b\b\b\b\b\b\b\b\b\b\b\b\b\b\b\b\b\b\b\b\b\b\b\b\b\b\b\b\b\b\b\b\b\b\b\b\b\b\b\b\b\b\b\b\b\b\b\b\b\b\b\b\b\b\b\b\b\b\b\b\b\b\b\b\r",
        "18/81 [=====>........................] - ETA: 1:05 - loss: 1.3931 - acc: 0.8777"
       ]
      },
      {
       "output_type": "stream",
       "stream": "stdout",
       "text": [
        "\b\b\b\b\b\b\b\b\b\b\b\b\b\b\b\b\b\b\b\b\b\b\b\b\b\b\b\b\b\b\b\b\b\b\b\b\b\b\b\b\b\b\b\b\b\b\b\b\b\b\b\b\b\b\b\b\b\b\b\b\b\b\b\b\b\b\b\b\b\b\b\b\b\b\b\b\b\b\b\r",
        "19/81 [======>.......................] - ETA: 1:03 - loss: 1.3830 - acc: 0.8778"
       ]
      },
      {
       "output_type": "stream",
       "stream": "stdout",
       "text": [
        "\b\b\b\b\b\b\b\b\b\b\b\b\b\b\b\b\b\b\b\b\b\b\b\b\b\b\b\b\b\b\b\b\b\b\b\b\b\b\b\b\b\b\b\b\b\b\b\b\b\b\b\b\b\b\b\b\b\b\b\b\b\b\b\b\b\b\b\b\b\b\b\b\b\b\b\b\b\b\b\r",
        "20/81 [======>.......................] - ETA: 1:02 - loss: 1.3741 - acc: 0.8774"
       ]
      },
      {
       "output_type": "stream",
       "stream": "stdout",
       "text": [
        "\b\b\b\b\b\b\b\b\b\b\b\b\b\b\b\b\b\b\b\b\b\b\b\b\b\b\b\b\b\b\b\b\b\b\b\b\b\b\b\b\b\b\b\b\b\b\b\b\b\b\b\b\b\b\b\b\b\b\b\b\b\b\b\b\b\b\b\b\b\b\b\b\b\b\b\b\b\b\b\r",
        "21/81 [======>.......................] - ETA: 1:00 - loss: 1.3654 - acc: 0.8778"
       ]
      },
      {
       "output_type": "stream",
       "stream": "stdout",
       "text": [
        "\b\b\b\b\b\b\b\b\b\b\b\b\b\b\b\b\b\b\b\b\b\b\b\b\b\b\b\b\b\b\b\b\b\b\b\b\b\b\b\b\b\b\b\b\b\b\b\b\b\b\b\b\b\b\b\b\b\b\b\b\b\b\b\b\b\b\b\b\b\b\b\b\b\b\b\b\b\b\b\r",
        "22/81 [=======>......................] - ETA: 59s - loss: 1.3577 - acc: 0.8779 "
       ]
      },
      {
       "output_type": "stream",
       "stream": "stdout",
       "text": [
        "\b\b\b\b\b\b\b\b\b\b\b\b\b\b\b\b\b\b\b\b\b\b\b\b\b\b\b\b\b\b\b\b\b\b\b\b\b\b\b\b\b\b\b\b\b\b\b\b\b\b\b\b\b\b\b\b\b\b\b\b\b\b\b\b\b\b\b\b\b\b\b\b\b\b\b\b\b\b\r",
        "23/81 [=======>......................] - ETA: 58s - loss: 1.3503 - acc: 0.8781"
       ]
      },
      {
       "output_type": "stream",
       "stream": "stdout",
       "text": [
        "\b\b\b\b\b\b\b\b\b\b\b\b\b\b\b\b\b\b\b\b\b\b\b\b\b\b\b\b\b\b\b\b\b\b\b\b\b\b\b\b\b\b\b\b\b\b\b\b\b\b\b\b\b\b\b\b\b\b\b\b\b\b\b\b\b\b\b\b\b\b\b\b\b\b\b\b\b\b\r",
        "24/81 [=======>......................] - ETA: 57s - loss: 1.3434 - acc: 0.8785"
       ]
      },
      {
       "output_type": "stream",
       "stream": "stdout",
       "text": [
        "\b\b\b\b\b\b\b\b\b\b\b\b\b\b\b\b\b\b\b\b\b\b\b\b\b\b\b\b\b\b\b\b\b\b\b\b\b\b\b\b\b\b\b\b\b\b\b\b\b\b\b\b\b\b\b\b\b\b\b\b\b\b\b\b\b\b\b\b\b\b\b\b\b\b\b\b\b\b\r",
        "25/81 [========>.....................] - ETA: 56s - loss: 1.3361 - acc: 0.8800"
       ]
      },
      {
       "output_type": "stream",
       "stream": "stdout",
       "text": [
        "\b\b\b\b\b\b\b\b\b\b\b\b\b\b\b\b\b\b\b\b\b\b\b\b\b\b\b\b\b\b\b\b\b\b\b\b\b\b\b\b\b\b\b\b\b\b\b\b\b\b\b\b\b\b\b\b\b\b\b\b\b\b\b\b\b\b\b\b\b\b\b\b\b\b\b\b\b\b\r",
        "26/81 [========>.....................] - ETA: 54s - loss: 1.3310 - acc: 0.8796"
       ]
      },
      {
       "output_type": "stream",
       "stream": "stdout",
       "text": [
        "\b\b\b\b\b\b\b\b\b\b\b\b\b\b\b\b\b\b\b\b\b\b\b\b\b\b\b\b\b\b\b\b\b\b\b\b\b\b\b\b\b\b\b\b\b\b\b\b\b\b\b\b\b\b\b\b\b\b\b\b\b\b\b\b\b\b\b\b\b\b\b\b\b\b\b\b\b\b\r",
        "27/81 [=========>....................] - ETA: 53s - loss: 1.3248 - acc: 0.8808"
       ]
      },
      {
       "output_type": "stream",
       "stream": "stdout",
       "text": [
        "\b\b\b\b\b\b\b\b\b\b\b\b\b\b\b\b\b\b\b\b\b\b\b\b\b\b\b\b\b\b\b\b\b\b\b\b\b\b\b\b\b\b\b\b\b\b\b\b\b\b\b\b\b\b\b\b\b\b\b\b\b\b\b\b\b\b\b\b\b\b\b\b\b\b\b\b\b\b\r",
        "28/81 [=========>....................] - ETA: 52s - loss: 1.3187 - acc: 0.8814"
       ]
      },
      {
       "output_type": "stream",
       "stream": "stdout",
       "text": [
        "\b\b\b\b\b\b\b\b\b\b\b\b\b\b\b\b\b\b\b\b\b\b\b\b\b\b\b\b\b\b\b\b\b\b\b\b\b\b\b\b\b\b\b\b\b\b\b\b\b\b\b\b\b\b\b\b\b\b\b\b\b\b\b\b\b\b\b\b\b\b\b\b\b\b\b\b\b\b\r",
        "29/81 [=========>....................] - ETA: 51s - loss: 1.3147 - acc: 0.8803"
       ]
      },
      {
       "output_type": "stream",
       "stream": "stdout",
       "text": [
        "\b\b\b\b\b\b\b\b\b\b\b\b\b\b\b\b\b\b\b\b\b\b\b\b\b\b\b\b\b\b\b\b\b\b\b\b\b\b\b\b\b\b\b\b\b\b\b\b\b\b\b\b\b\b\b\b\b\b\b\b\b\b\b\b\b\b\b\b\b\b\b\b\b\b\b\b\b\b\r",
        "30/81 [==========>...................] - ETA: 50s - loss: 1.3100 - acc: 0.8799"
       ]
      },
      {
       "output_type": "stream",
       "stream": "stdout",
       "text": [
        "\b\b\b\b\b\b\b\b\b\b\b\b\b\b\b\b\b\b\b\b\b\b\b\b\b\b\b\b\b\b\b\b\b\b\b\b\b\b\b\b\b\b\b\b\b\b\b\b\b\b\b\b\b\b\b\b\b\b\b\b\b\b\b\b\b\b\b\b\b\b\b\b\b\b\b\b\b\b\r",
        "31/81 [==========>...................] - ETA: 49s - loss: 1.3057 - acc: 0.8787"
       ]
      },
      {
       "output_type": "stream",
       "stream": "stdout",
       "text": [
        "\b\b\b\b\b\b\b\b\b\b\b\b\b\b\b\b\b\b\b\b\b\b\b\b\b\b\b\b\b\b\b\b\b\b\b\b\b\b\b\b\b\b\b\b\b\b\b\b\b\b\b\b\b\b\b\b\b\b\b\b\b\b\b\b\b\b\b\b\b\b\b\b\b\b\b\b\b\b\r",
        "32/81 [==========>...................] - ETA: 48s - loss: 1.3006 - acc: 0.8788"
       ]
      },
      {
       "output_type": "stream",
       "stream": "stdout",
       "text": [
        "\b\b\b\b\b\b\b\b\b\b\b\b\b\b\b\b\b\b\b\b\b\b\b\b\b\b\b\b\b\b\b\b\b\b\b\b\b\b\b\b\b\b\b\b\b\b\b\b\b\b\b\b\b\b\b\b\b\b\b\b\b\b\b\b\b\b\b\b\b\b\b\b\b\b\b\b\b\b\r",
        "33/81 [===========>..................] - ETA: 47s - loss: 1.2961 - acc: 0.8784"
       ]
      },
      {
       "output_type": "stream",
       "stream": "stdout",
       "text": [
        "\b\b\b\b\b\b\b\b\b\b\b\b\b\b\b\b\b\b\b\b\b\b\b\b\b\b\b\b\b\b\b\b\b\b\b\b\b\b\b\b\b\b\b\b\b\b\b\b\b\b\b\b\b\b\b\b\b\b\b\b\b\b\b\b\b\b\b\b\b\b\b\b\b\b\b\b\b\b\r",
        "34/81 [===========>..................] - ETA: 45s - loss: 1.2914 - acc: 0.8783"
       ]
      },
      {
       "output_type": "stream",
       "stream": "stdout",
       "text": [
        "\b\b\b\b\b\b\b\b\b\b\b\b\b\b\b\b\b\b\b\b\b\b\b\b\b\b\b\b\b\b\b\b\b\b\b\b\b\b\b\b\b\b\b\b\b\b\b\b\b\b\b\b\b\b\b\b\b\b\b\b\b\b\b\b\b\b\b\b\b\b\b\b\b\b\b\b\b\b\r",
        "35/81 [===========>..................] - ETA: 44s - loss: 1.2869 - acc: 0.8783"
       ]
      },
      {
       "output_type": "stream",
       "stream": "stdout",
       "text": [
        "\b\b\b\b\b\b\b\b\b\b\b\b\b\b\b\b\b\b\b\b\b\b\b\b\b\b\b\b\b\b\b\b\b\b\b\b\b\b\b\b\b\b\b\b\b\b\b\b\b\b\b\b\b\b\b\b\b\b\b\b\b\b\b\b\b\b\b\b\b\b\b\b\b\b\b\b\b\b\r",
        "36/81 [============>.................] - ETA: 43s - loss: 1.2827 - acc: 0.8781"
       ]
      },
      {
       "output_type": "stream",
       "stream": "stdout",
       "text": [
        "\b\b\b\b\b\b\b\b\b\b\b\b\b\b\b\b\b\b\b\b\b\b\b\b\b\b\b\b\b\b\b\b\b\b\b\b\b\b\b\b\b\b\b\b\b\b\b\b\b\b\b\b\b\b\b\b\b\b\b\b\b\b\b\b\b\b\b\b\b\b\b\b\b\b\b\b\b\b\r",
        "37/81 [============>.................] - ETA: 42s - loss: 1.2786 - acc: 0.8783"
       ]
      },
      {
       "output_type": "stream",
       "stream": "stdout",
       "text": [
        "\b\b\b\b\b\b\b\b\b\b\b\b\b\b\b\b\b\b\b\b\b\b\b\b\b\b\b\b\b\b\b\b\b\b\b\b\b\b\b\b\b\b\b\b\b\b\b\b\b\b\b\b\b\b\b\b\b\b\b\b\b\b\b\b\b\b\b\b\b\b\b\b\b\b\b\b\b\b\r",
        "38/81 [=============>................] - ETA: 41s - loss: 1.2745 - acc: 0.8783"
       ]
      },
      {
       "output_type": "stream",
       "stream": "stdout",
       "text": [
        "\b\b\b\b\b\b\b\b\b\b\b\b\b\b\b\b\b\b\b\b\b\b\b\b\b\b\b\b\b\b\b\b\b\b\b\b\b\b\b\b\b\b\b\b\b\b\b\b\b\b\b\b\b\b\b\b\b\b\b\b\b\b\b\b\b\b\b\b\b\b\b\b\b\b\b\b\b\b\r",
        "39/81 [=============>................] - ETA: 40s - loss: 1.2707 - acc: 0.8784"
       ]
      },
      {
       "output_type": "stream",
       "stream": "stdout",
       "text": [
        "\b\b\b\b\b\b\b\b\b\b\b\b\b\b\b\b\b\b\b\b\b\b\b\b\b\b\b\b\b\b\b\b\b\b\b\b\b\b\b\b\b\b\b\b\b\b\b\b\b\b\b\b\b\b\b\b\b\b\b\b\b\b\b\b\b\b\b\b\b\b\b\b\b\b\b\b\b\b\r",
        "40/81 [=============>................] - ETA: 39s - loss: 1.2669 - acc: 0.8786"
       ]
      },
      {
       "output_type": "stream",
       "stream": "stdout",
       "text": [
        "\b\b\b\b\b\b\b\b\b\b\b\b\b\b\b\b\b\b\b\b\b\b\b\b\b\b\b\b\b\b\b\b\b\b\b\b\b\b\b\b\b\b\b\b\b\b\b\b\b\b\b\b\b\b\b\b\b\b\b\b\b\b\b\b\b\b\b\b\b\b\b\b\b\b\b\b\b\b\r",
        "41/81 [==============>...............] - ETA: 38s - loss: 1.2630 - acc: 0.8795"
       ]
      },
      {
       "output_type": "stream",
       "stream": "stdout",
       "text": [
        "\b\b\b\b\b\b\b\b\b\b\b\b\b\b\b\b\b\b\b\b\b\b\b\b\b\b\b\b\b\b\b\b\b\b\b\b\b\b\b\b\b\b\b\b\b\b\b\b\b\b\b\b\b\b\b\b\b\b\b\b\b\b\b\b\b\b\b\b\b\b\b\b\b\b\b\b\b\b\r",
        "42/81 [==============>...............] - ETA: 37s - loss: 1.2597 - acc: 0.8793"
       ]
      },
      {
       "output_type": "stream",
       "stream": "stdout",
       "text": [
        "\b\b\b\b\b\b\b\b\b\b\b\b\b\b\b\b\b\b\b\b\b\b\b\b\b\b\b\b\b\b\b\b\b\b\b\b\b\b\b\b\b\b\b\b\b\b\b\b\b\b\b\b\b\b\b\b\b\b\b\b\b\b\b\b\b\b\b\b\b\b\b\b\b\b\b\b\b\b\r",
        "43/81 [==============>...............] - ETA: 36s - loss: 1.2564 - acc: 0.8801"
       ]
      },
      {
       "output_type": "stream",
       "stream": "stdout",
       "text": [
        "\b\b\b\b\b\b\b\b\b\b\b\b\b\b\b\b\b\b\b\b\b\b\b\b\b\b\b\b\b\b\b\b\b\b\b\b\b\b\b\b\b\b\b\b\b\b\b\b\b\b\b\b\b\b\b\b\b\b\b\b\b\b\b\b\b\b\b\b\b\b\b\b\b\b\b\b\b\b\r",
        "44/81 [===============>..............] - ETA: 35s - loss: 1.2533 - acc: 0.8804"
       ]
      },
      {
       "output_type": "stream",
       "stream": "stdout",
       "text": [
        "\b\b\b\b\b\b\b\b\b\b\b\b\b\b\b\b\b\b\b\b\b\b\b\b\b\b\b\b\b\b\b\b\b\b\b\b\b\b\b\b\b\b\b\b\b\b\b\b\b\b\b\b\b\b\b\b\b\b\b\b\b\b\b\b\b\b\b\b\b\b\b\b\b\b\b\b\b\b\r",
        "45/81 [===============>..............] - ETA: 34s - loss: 1.2507 - acc: 0.8798"
       ]
      },
      {
       "output_type": "stream",
       "stream": "stdout",
       "text": [
        "\b\b\b\b\b\b\b\b\b\b\b\b\b\b\b\b\b\b\b\b\b\b\b\b\b\b\b\b\b\b\b\b\b\b\b\b\b\b\b\b\b\b\b\b\b\b\b\b\b\b\b\b\b\b\b\b\b\b\b\b\b\b\b\b\b\b\b\b\b\b\b\b\b\b\b\b\b\b\r",
        "46/81 [================>.............] - ETA: 33s - loss: 1.2481 - acc: 0.8795"
       ]
      },
      {
       "output_type": "stream",
       "stream": "stdout",
       "text": [
        "\b\b\b\b\b\b\b\b\b\b\b\b\b\b\b\b\b\b\b\b\b\b\b\b\b\b\b\b\b\b\b\b\b\b\b\b\b\b\b\b\b\b\b\b\b\b\b\b\b\b\b\b\b\b\b\b\b\b\b\b\b\b\b\b\b\b\b\b\b\b\b\b\b\b\b\b\b\b\r",
        "47/81 [================>.............] - ETA: 32s - loss: 1.2455 - acc: 0.8787"
       ]
      },
      {
       "output_type": "stream",
       "stream": "stdout",
       "text": [
        "\b\b\b\b\b\b\b\b\b\b\b\b\b\b\b\b\b\b\b\b\b\b\b\b\b\b\b\b\b\b\b\b\b\b\b\b\b\b\b\b\b\b\b\b\b\b\b\b\b\b\b\b\b\b\b\b\b\b\b\b\b\b\b\b\b\b\b\b\b\b\b\b\b\b\b\b\b\b\r",
        "48/81 [================>.............] - ETA: 31s - loss: 1.2429 - acc: 0.8787"
       ]
      },
      {
       "output_type": "stream",
       "stream": "stdout",
       "text": [
        "\b\b\b\b\b\b\b\b\b\b\b\b\b\b\b\b\b\b\b\b\b\b\b\b\b\b\b\b\b\b\b\b\b\b\b\b\b\b\b\b\b\b\b\b\b\b\b\b\b\b\b\b\b\b\b\b\b\b\b\b\b\b\b\b\b\b\b\b\b\b\b\b\b\b\b\b\b\b\r",
        "49/81 [=================>............] - ETA: 30s - loss: 1.2404 - acc: 0.8784"
       ]
      },
      {
       "output_type": "stream",
       "stream": "stdout",
       "text": [
        "\b\b\b\b\b\b\b\b\b\b\b\b\b\b\b\b\b\b\b\b\b\b\b\b\b\b\b\b\b\b\b\b\b\b\b\b\b\b\b\b\b\b\b\b\b\b\b\b\b\b\b\b\b\b\b\b\b\b\b\b\b\b\b\b\b\b\b\b\b\b\b\b\b\b\b\b\b\b\r",
        "50/81 [=================>............] - ETA: 29s - loss: 1.2381 - acc: 0.8783"
       ]
      },
      {
       "output_type": "stream",
       "stream": "stdout",
       "text": [
        "\b\b\b\b\b\b\b\b\b\b\b\b\b\b\b\b\b\b\b\b\b\b\b\b\b\b\b\b\b\b\b\b\b\b\b\b\b\b\b\b\b\b\b\b\b\b\b\b\b\b\b\b\b\b\b\b\b\b\b\b\b\b\b\b\b\b\b\b\b\b\b\b\b\b\b\b\b\b\r",
        "51/81 [=================>............] - ETA: 28s - loss: 1.2359 - acc: 0.8783"
       ]
      },
      {
       "output_type": "stream",
       "stream": "stdout",
       "text": [
        "\b\b\b\b\b\b\b\b\b\b\b\b\b\b\b\b\b\b\b\b\b\b\b\b\b\b\b\b\b\b\b\b\b\b\b\b\b\b\b\b\b\b\b\b\b\b\b\b\b\b\b\b\b\b\b\b\b\b\b\b\b\b\b\b\b\b\b\b\b\b\b\b\b\b\b\b\b\b\r",
        "52/81 [==================>...........] - ETA: 27s - loss: 1.2336 - acc: 0.8782"
       ]
      },
      {
       "output_type": "stream",
       "stream": "stdout",
       "text": [
        "\b\b\b\b\b\b\b\b\b\b\b\b\b\b\b\b\b\b\b\b\b\b\b\b\b\b\b\b\b\b\b\b\b\b\b\b\b\b\b\b\b\b\b\b\b\b\b\b\b\b\b\b\b\b\b\b\b\b\b\b\b\b\b\b\b\b\b\b\b\b\b\b\b\b\b\b\b\b\r",
        "53/81 [==================>...........] - ETA: 27s - loss: 1.2313 - acc: 0.8783"
       ]
      },
      {
       "output_type": "stream",
       "stream": "stdout",
       "text": [
        "\b\b\b\b\b\b\b\b\b\b\b\b\b\b\b\b\b\b\b\b\b\b\b\b\b\b\b\b\b\b\b\b\b\b\b\b\b\b\b\b\b\b\b\b\b\b\b\b\b\b\b\b\b\b\b\b\b\b\b\b\b\b\b\b\b\b\b\b\b\b\b\b\b\b\b\b\b\b\r",
        "54/81 [===================>..........] - ETA: 26s - loss: 1.2292 - acc: 0.8783"
       ]
      },
      {
       "output_type": "stream",
       "stream": "stdout",
       "text": [
        "\b\b\b\b\b\b\b\b\b\b\b\b\b\b\b\b\b\b\b\b\b\b\b\b\b\b\b\b\b\b\b\b\b\b\b\b\b\b\b\b\b\b\b\b\b\b\b\b\b\b\b\b\b\b\b\b\b\b\b\b\b\b\b\b\b\b\b\b\b\b\b\b\b\b\b\b\b\b\r",
        "55/81 [===================>..........] - ETA: 25s - loss: 1.2271 - acc: 0.8784"
       ]
      },
      {
       "output_type": "stream",
       "stream": "stdout",
       "text": [
        "\b\b\b\b\b\b\b\b\b\b\b\b\b\b\b\b\b\b\b\b\b\b\b\b\b\b\b\b\b\b\b\b\b\b\b\b\b\b\b\b\b\b\b\b\b\b\b\b\b\b\b\b\b\b\b\b\b\b\b\b\b\b\b\b\b\b\b\b\b\b\b\b\b\b\b\b\b\b\r",
        "56/81 [===================>..........] - ETA: 24s - loss: 1.2250 - acc: 0.8786"
       ]
      },
      {
       "output_type": "stream",
       "stream": "stdout",
       "text": [
        "\b\b\b\b\b\b\b\b\b\b\b\b\b\b\b\b\b\b\b\b\b\b\b\b\b\b\b\b\b\b\b\b\b\b\b\b\b\b\b\b\b\b\b\b\b\b\b\b\b\b\b\b\b\b\b\b\b\b\b\b\b\b\b\b\b\b\b\b\b\b\b\b\b\b\b\b\b\b\r",
        "57/81 [====================>.........] - ETA: 23s - loss: 1.2227 - acc: 0.8792"
       ]
      },
      {
       "output_type": "stream",
       "stream": "stdout",
       "text": [
        "\b\b\b\b\b\b\b\b\b\b\b\b\b\b\b\b\b\b\b\b\b\b\b\b\b\b\b\b\b\b\b\b\b\b\b\b\b\b\b\b\b\b\b\b\b\b\b\b\b\b\b\b\b\b\b\b\b\b\b\b\b\b\b\b\b\b\b\b\b\b\b\b\b\b\b\b\b\b\r",
        "58/81 [====================>.........] - ETA: 22s - loss: 1.2211 - acc: 0.8790"
       ]
      },
      {
       "output_type": "stream",
       "stream": "stdout",
       "text": [
        "\b\b\b\b\b\b\b\b\b\b\b\b\b\b\b\b\b\b\b\b\b\b\b\b\b\b\b\b\b\b\b\b\b\b\b\b\b\b\b\b\b\b\b\b\b\b\b\b\b\b\b\b\b\b\b\b\b\b\b\b\b\b\b\b\b\b\b\b\b\b\b\b\b\b\b\b\b\b\r",
        "59/81 [====================>.........] - ETA: 21s - loss: 1.2193 - acc: 0.8796"
       ]
      },
      {
       "output_type": "stream",
       "stream": "stdout",
       "text": [
        "\b\b\b\b\b\b\b\b\b\b\b\b\b\b\b\b\b\b\b\b\b\b\b\b\b\b\b\b\b\b\b\b\b\b\b\b\b\b\b\b\b\b\b\b\b\b\b\b\b\b\b\b\b\b\b\b\b\b\b\b\b\b\b\b\b\b\b\b\b\b\b\b\b\b\b\b\b\b\r",
        "60/81 [=====================>........] - ETA: 20s - loss: 1.2175 - acc: 0.8798"
       ]
      },
      {
       "output_type": "stream",
       "stream": "stdout",
       "text": [
        "\b\b\b\b\b\b\b\b\b\b\b\b\b\b\b\b\b\b\b\b\b\b\b\b\b\b\b\b\b\b\b\b\b\b\b\b\b\b\b\b\b\b\b\b\b\b\b\b\b\b\b\b\b\b\b\b\b\b\b\b\b\b\b\b\b\b\b\b\b\b\b\b\b\b\b\b\b\b\r",
        "61/81 [=====================>........] - ETA: 19s - loss: 1.2160 - acc: 0.8794"
       ]
      },
      {
       "output_type": "stream",
       "stream": "stdout",
       "text": [
        "\b\b\b\b\b\b\b\b\b\b\b\b\b\b\b\b\b\b\b\b\b\b\b\b\b\b\b\b\b\b\b\b\b\b\b\b\b\b\b\b\b\b\b\b\b\b\b\b\b\b\b\b\b\b\b\b\b\b\b\b\b\b\b\b\b\b\b\b\b\b\b\b\b\b\b\b\b\b\r",
        "62/81 [=====================>........] - ETA: 18s - loss: 1.2144 - acc: 0.8791"
       ]
      },
      {
       "output_type": "stream",
       "stream": "stdout",
       "text": [
        "\b\b\b\b\b\b\b\b\b\b\b\b\b\b\b\b\b\b\b\b\b\b\b\b\b\b\b\b\b\b\b\b\b\b\b\b\b\b\b\b\b\b\b\b\b\b\b\b\b\b\b\b\b\b\b\b\b\b\b\b\b\b\b\b\b\b\b\b\b\b\b\b\b\b\b\b\b\b\r",
        "63/81 [======================>.......] - ETA: 17s - loss: 1.2129 - acc: 0.8785"
       ]
      },
      {
       "output_type": "stream",
       "stream": "stdout",
       "text": [
        "\b\b\b\b\b\b\b\b\b\b\b\b\b\b\b\b\b\b\b\b\b\b\b\b\b\b\b\b\b\b\b\b\b\b\b\b\b\b\b\b\b\b\b\b\b\b\b\b\b\b\b\b\b\b\b\b\b\b\b\b\b\b\b\b\b\b\b\b\b\b\b\b\b\b\b\b\b\b\r",
        "64/81 [======================>.......] - ETA: 16s - loss: 1.2114 - acc: 0.8785"
       ]
      },
      {
       "output_type": "stream",
       "stream": "stdout",
       "text": [
        "\b\b\b\b\b\b\b\b\b\b\b\b\b\b\b\b\b\b\b\b\b\b\b\b\b\b\b\b\b\b\b\b\b\b\b\b\b\b\b\b\b\b\b\b\b\b\b\b\b\b\b\b\b\b\b\b\b\b\b\b\b\b\b\b\b\b\b\b\b\b\b\b\b\b\b\b\b\b\r",
        "65/81 [=======================>......] - ETA: 15s - loss: 1.2102 - acc: 0.8783"
       ]
      },
      {
       "output_type": "stream",
       "stream": "stdout",
       "text": [
        "\b\b\b\b\b\b\b\b\b\b\b\b\b\b\b\b\b\b\b\b\b\b\b\b\b\b\b\b\b\b\b\b\b\b\b\b\b\b\b\b\b\b\b\b\b\b\b\b\b\b\b\b\b\b\b\b\b\b\b\b\b\b\b\b\b\b\b\b\b\b\b\b\b\b\b\b\b\b\r",
        "66/81 [=======================>......] - ETA: 14s - loss: 1.2088 - acc: 0.8782"
       ]
      },
      {
       "output_type": "stream",
       "stream": "stdout",
       "text": [
        "\b\b\b\b\b\b\b\b\b\b\b\b\b\b\b\b\b\b\b\b\b\b\b\b\b\b\b\b\b\b\b\b\b\b\b\b\b\b\b\b\b\b\b\b\b\b\b\b\b\b\b\b\b\b\b\b\b\b\b\b\b\b\b\b\b\b\b\b\b\b\b\b\b\b\b\b\b\b\r",
        "67/81 [=======================>......] - ETA: 13s - loss: 1.2073 - acc: 0.8783"
       ]
      },
      {
       "output_type": "stream",
       "stream": "stdout",
       "text": [
        "\b\b\b\b\b\b\b\b\b\b\b\b\b\b\b\b\b\b\b\b\b\b\b\b\b\b\b\b\b\b\b\b\b\b\b\b\b\b\b\b\b\b\b\b\b\b\b\b\b\b\b\b\b\b\b\b\b\b\b\b\b\b\b\b\b\b\b\b\b\b\b\b\b\b\b\b\b\b\r",
        "68/81 [========================>.....] - ETA: 12s - loss: 1.2059 - acc: 0.8781"
       ]
      },
      {
       "output_type": "stream",
       "stream": "stdout",
       "text": [
        "\b\b\b\b\b\b\b\b\b\b\b\b\b\b\b\b\b\b\b\b\b\b\b\b\b\b\b\b\b\b\b\b\b\b\b\b\b\b\b\b\b\b\b\b\b\b\b\b\b\b\b\b\b\b\b\b\b\b\b\b\b\b\b\b\b\b\b\b\b\b\b\b\b\b\b\b\b\b\r",
        "69/81 [========================>.....] - ETA: 11s - loss: 1.2046 - acc: 0.8783"
       ]
      },
      {
       "output_type": "stream",
       "stream": "stdout",
       "text": [
        "\b\b\b\b\b\b\b\b\b\b\b\b\b\b\b\b\b\b\b\b\b\b\b\b\b\b\b\b\b\b\b\b\b\b\b\b\b\b\b\b\b\b\b\b\b\b\b\b\b\b\b\b\b\b\b\b\b\b\b\b\b\b\b\b\b\b\b\b\b\b\b\b\b\b\b\b\b\b\r",
        "70/81 [========================>.....] - ETA: 10s - loss: 1.2032 - acc: 0.8783"
       ]
      },
      {
       "output_type": "stream",
       "stream": "stdout",
       "text": [
        "\b\b\b\b\b\b\b\b\b\b\b\b\b\b\b\b\b\b\b\b\b\b\b\b\b\b\b\b\b\b\b\b\b\b\b\b\b\b\b\b\b\b\b\b\b\b\b\b\b\b\b\b\b\b\b\b\b\b\b\b\b\b\b\b\b\b\b\b\b\b\b\b\b\b\b\b\b\b\r",
        "71/81 [=========================>....] - ETA: 9s - loss: 1.2019 - acc: 0.8784 "
       ]
      },
      {
       "output_type": "stream",
       "stream": "stdout",
       "text": [
        "\b\b\b\b\b\b\b\b\b\b\b\b\b\b\b\b\b\b\b\b\b\b\b\b\b\b\b\b\b\b\b\b\b\b\b\b\b\b\b\b\b\b\b\b\b\b\b\b\b\b\b\b\b\b\b\b\b\b\b\b\b\b\b\b\b\b\b\b\b\b\b\b\b\b\b\b\b\r",
        "72/81 [=========================>....] - ETA: 8s - loss: 1.2005 - acc: 0.8785"
       ]
      },
      {
       "output_type": "stream",
       "stream": "stdout",
       "text": [
        "\b\b\b\b\b\b\b\b\b\b\b\b\b\b\b\b\b\b\b\b\b\b\b\b\b\b\b\b\b\b\b\b\b\b\b\b\b\b\b\b\b\b\b\b\b\b\b\b\b\b\b\b\b\b\b\b\b\b\b\b\b\b\b\b\b\b\b\b\b\b\b\b\b\b\b\b\b\r",
        "73/81 [==========================>...] - ETA: 7s - loss: 1.1990 - acc: 0.8789"
       ]
      },
      {
       "output_type": "stream",
       "stream": "stdout",
       "text": [
        "\b\b\b\b\b\b\b\b\b\b\b\b\b\b\b\b\b\b\b\b\b\b\b\b\b\b\b\b\b\b\b\b\b\b\b\b\b\b\b\b\b\b\b\b\b\b\b\b\b\b\b\b\b\b\b\b\b\b\b\b\b\b\b\b\b\b\b\b\b\b\b\b\b\b\b\b\b\r",
        "74/81 [==========================>...] - ETA: 6s - loss: 1.1979 - acc: 0.8788"
       ]
      },
      {
       "output_type": "stream",
       "stream": "stdout",
       "text": [
        "\b\b\b\b\b\b\b\b\b\b\b\b\b\b\b\b\b\b\b\b\b\b\b\b\b\b\b\b\b\b\b\b\b\b\b\b\b\b\b\b\b\b\b\b\b\b\b\b\b\b\b\b\b\b\b\b\b\b\b\b\b\b\b\b\b\b\b\b\b\b\b\b\b\b\b\b\b\r",
        "75/81 [==========================>...] - ETA: 5s - loss: 1.1971 - acc: 0.8792"
       ]
      },
      {
       "output_type": "stream",
       "stream": "stdout",
       "text": [
        "\b\b\b\b\b\b\b\b\b\b\b\b\b\b\b\b\b\b\b\b\b\b\b\b\b\b\b\b\b\b\b\b\b\b\b\b\b\b\b\b\b\b\b\b\b\b\b\b\b\b\b\b\b\b\b\b\b\b\b\b\b\b\b\b\b\b\b\b\b\b\b\b\b\b\b\b\b\r",
        "76/81 [===========================>..] - ETA: 4s - loss: 1.1959 - acc: 0.8794"
       ]
      },
      {
       "output_type": "stream",
       "stream": "stdout",
       "text": [
        "\b\b\b\b\b\b\b\b\b\b\b\b\b\b\b\b\b\b\b\b\b\b\b\b\b\b\b\b\b\b\b\b\b\b\b\b\b\b\b\b\b\b\b\b\b\b\b\b\b\b\b\b\b\b\b\b\b\b\b\b\b\b\b\b\b\b\b\b\b\b\b\b\b\b\b\b\b\r",
        "77/81 [===========================>..] - ETA: 3s - loss: 1.1950 - acc: 0.8791"
       ]
      },
      {
       "output_type": "stream",
       "stream": "stdout",
       "text": [
        "\b\b\b\b\b\b\b\b\b\b\b\b\b\b\b\b\b\b\b\b\b\b\b\b\b\b\b\b\b\b\b\b\b\b\b\b\b\b\b\b\b\b\b\b\b\b\b\b\b\b\b\b\b\b\b\b\b\b\b\b\b\b\b\b\b\b\b\b\b\b\b\b\b\b\b\b\b\r",
        "78/81 [===========================>..] - ETA: 2s - loss: 1.1940 - acc: 0.8789"
       ]
      },
      {
       "output_type": "stream",
       "stream": "stdout",
       "text": [
        "\b\b\b\b\b\b\b\b\b\b\b\b\b\b\b\b\b\b\b\b\b\b\b\b\b\b\b\b\b\b\b\b\b\b\b\b\b\b\b\b\b\b\b\b\b\b\b\b\b\b\b\b\b\b\b\b\b\b\b\b\b\b\b\b\b\b\b\b\b\b\b\b\b\b\b\b\b\r",
        "79/81 [============================>.] - ETA: 1s - loss: 1.1929 - acc: 0.8784"
       ]
      },
      {
       "output_type": "stream",
       "stream": "stdout",
       "text": [
        "\b\b\b\b\b\b\b\b\b\b\b\b\b\b\b\b\b\b\b\b\b\b\b\b\b\b\b\b\b\b\b\b\b\b\b\b\b\b\b\b\b\b\b\b\b\b\b\b\b\b\b\b\b\b\b\b\b\b\b\b\b\b\b\b\b\b\b\b\b\b\b\b\b\b\b\b\b\r",
        "80/81 [============================>.] - ETA: 0s - loss: 1.1920 - acc: 0.8784"
       ]
      },
      {
       "output_type": "stream",
       "stream": "stdout",
       "text": [
        "\n",
        "Epoch 00001: val_loss improved from inf to 1.11602, saving model to /home/tramx/PhD/python/patch2image/outputs/DRIVE/seg_101_drive_bce_dice_gray_clahe_gamma_light_save_model.hdf5\n",
        "\b\b\b\b\b\b\b\b\b\b\b\b\b\b\b\b\b\b\b\b\b\b\b\b\b\b\b\b\b\b\b\b\b\b\b\b\b\b\b\b\b\b\b\b\b\b\b\b\b\b\b\b\b\b\b\b\b\b\b\b\b\b\b\b\b\b\b\b\b\b\b\b\b\b\b\b\b"
       ]
      },
      {
       "output_type": "stream",
       "stream": "stdout",
       "text": [
        "\r",
        "81/81 [==============================] - 80s 984ms/step - loss: 1.1911 - acc: 0.8783 - val_loss: 1.1160 - val_acc: 0.9164\n"
       ]
      },
      {
       "output_type": "stream",
       "stream": "stderr",
       "text": [
        "/usr/local/lib/python2.7/dist-packages/skimage/transform/_warps.py:105: UserWarning: The default mode, 'constant', will be changed to 'reflect' in skimage 0.15.\n",
        "  warn(\"The default mode, 'constant', will be changed to 'reflect' in \"\n",
        "/usr/local/lib/python2.7/dist-packages/skimage/transform/_warps.py:110: UserWarning: Anti-aliasing will be enabled by default in skimage 0.15 to avoid aliasing artifacts when down-sampling images.\n",
        "  warn(\"Anti-aliasing will be enabled by default in skimage 0.15 to \"\n",
        "/usr/local/lib/python2.7/dist-packages/skimage/util/dtype.py:141: UserWarning: Possible precision loss when converting from int64 to float64\n",
        "  .format(dtypeobj_in, dtypeobj_out))\n",
        "/usr/local/lib/python2.7/dist-packages/skimage/util/dtype.py:141: UserWarning: Possible precision loss when converting from float64 to uint16\n",
        "  .format(dtypeobj_in, dtypeobj_out))\n"
       ]
      }
     ],
     "prompt_number": 10
    },
    {
     "cell_type": "heading",
     "level": 3,
     "metadata": {},
     "source": [
      "Testing"
     ]
    },
    {
     "cell_type": "code",
     "collapsed": false,
     "input": [
      "def testing(model, args):\n",
      "    x_test_paths, y_test_paths = read_df(args.ftest, args.database_dir)\n",
      "    seg_metrics = []\n",
      "    for x_path, y_path in zip(x_test_paths, y_test_paths):  \n",
      "        im, gt = _process_pathnames(x_path, y_path, resize=None) \n",
      "        im, gt = _process_img(im, gt, gamma=args.gamma, clahe=args.clahe, \n",
      "                                gray=args.gray, xyz=args.xyz,hed=args.hed) \n",
      "        im = transform.resize(np.squeeze(im), args.in_shape[:2])\n",
      "        im = np.expand_dims(im[np.newaxis], -1) \n",
      "        \n",
      "        pred = model.predict(im, batch_size=1, verbose=0) \n",
      "        pred = transform.resize(np.squeeze(pred), np.squeeze(gt).shape)\n",
      "        \n",
      "        seg_metrics.append(misc_metrics(gt, pred))\n",
      "        print('Testing metrics ' + x_path.split('/')[-1]+': ', seg_metrics[-1])\n",
      "    print('Final metrics: ', np.mean(seg_metrics,0))\n",
      "\n",
      "    return seg_metrics\n"
     ],
     "language": "python",
     "metadata": {},
     "outputs": [],
     "prompt_number": 27
    },
    {
     "cell_type": "code",
     "collapsed": false,
     "input": [
      "c = testing(trained_model, params)"
     ],
     "language": "python",
     "metadata": {},
     "outputs": [
      {
       "output_type": "stream",
       "stream": "stdout",
       "text": [
        "('Testing metrics 01_test.tif: ', [0.7988115952276923, 1.0, 0.0, 0.9107770638865317, 0.0, 0.0])\n",
        "('Testing metrics 02_test.tif: ', [0.8085913288784388, 1.0, 0.0, 0.8975936477148745, 0.0, 0.0])"
       ]
      },
      {
       "output_type": "stream",
       "stream": "stdout",
       "text": [
        "\n",
        "('Testing metrics 03_test.tif: ', [0.8056786660246273, 1.0, 0.0, 0.9003121590495817, 0.0, 0.0])"
       ]
      },
      {
       "output_type": "stream",
       "stream": "stdout",
       "text": [
        "\n",
        "('Testing metrics 04_test.tif: ', [0.7632626371252988, 1.0, 0.0, 0.9080070311552916, 0.0, 0.0])"
       ]
      },
      {
       "output_type": "stream",
       "stream": "stdout",
       "text": [
        "\n",
        "('Testing metrics 05_test.tif: ', [0.7947919071100567, 1.0, 0.0, 0.9063159170808582, 0.0, 0.0])"
       ]
      },
      {
       "output_type": "stream",
       "stream": "stdout",
       "text": [
        "\n",
        "('Testing metrics 06_test.tif: ', [0.7935453143643423, 1.0, 0.0, 0.9026669899381743, 0.0, 0.0])"
       ]
      },
      {
       "output_type": "stream",
       "stream": "stdout",
       "text": [
        "\n",
        "('Testing metrics 07_test.tif: ', [0.768137154785342, 1.0, 0.0, 0.9086192265729179, 0.0, 0.0])"
       ]
      },
      {
       "output_type": "stream",
       "stream": "stdout",
       "text": [
        "\n",
        "('Testing metrics 08_test.tif: ', [0.7757878097332251, 1.0, 0.0, 0.9139622984604194, 0.0, 0.0])"
       ]
      },
      {
       "output_type": "stream",
       "stream": "stdout",
       "text": [
        "\n",
        "('Testing metrics 09_test.tif: ', [0.7799361637384995, 1.0, 0.0, 0.9189568432537277, 0.0, 0.0])"
       ]
      },
      {
       "output_type": "stream",
       "stream": "stdout",
       "text": [
        "\n",
        "('Testing metrics 10_test.tif: ', [0.7528476090734662, 1.0, 0.0, 0.9176991150442478, 0.0, 0.0])"
       ]
      },
      {
       "output_type": "stream",
       "stream": "stdout",
       "text": [
        "\n",
        "('Testing metrics 11_test.tif: ', [0.7652414610824713, 1.0, 0.0, 0.9104770275184871, 0.0, 0.0])"
       ]
      },
      {
       "output_type": "stream",
       "stream": "stdout",
       "text": [
        "\n",
        "('Testing metrics 12_test.tif: ', [0.7935136595162469, 1.0, 0.0, 0.9136562007516063, 0.0, 0.0])"
       ]
      },
      {
       "output_type": "stream",
       "stream": "stdout",
       "text": [
        "\n",
        "('Testing metrics 13_test.tif: ', [0.7741432958916276, 1.0, 0.0, 0.902233604073221, 0.0, 0.0])"
       ]
      },
      {
       "output_type": "stream",
       "stream": "stdout",
       "text": [
        "\n",
        "('Testing metrics 14_test.tif: ', [0.7931754718062383, 1.0, 0.0, 0.9191508061583222, 0.0, 0.0])"
       ]
      },
      {
       "output_type": "stream",
       "stream": "stdout",
       "text": [
        "\n",
        "('Testing metrics 15_test.tif: ', [0.7711770136907198, 1.0, 0.0, 0.9284337495453995, 0.0, 0.0])"
       ]
      },
      {
       "output_type": "stream",
       "stream": "stdout",
       "text": [
        "\n",
        "('Testing metrics 16_test.tif: ', [0.7886324955563655, 1.0, 0.0, 0.9097132985816463, 0.0, 0.0])"
       ]
      },
      {
       "output_type": "stream",
       "stream": "stdout",
       "text": [
        "\n",
        "('Testing metrics 17_test.tif: ', [0.7910000747944691, 1.0, 0.0, 0.9155897684567826, 0.0, 0.0])"
       ]
      },
      {
       "output_type": "stream",
       "stream": "stdout",
       "text": [
        "\n",
        "('Testing metrics 18_test.tif: ', [0.7892943583656284, 1.0, 0.0, 0.9207661534731483, 0.0, 0.0])"
       ]
      },
      {
       "output_type": "stream",
       "stream": "stdout",
       "text": [
        "\n",
        "('Testing metrics 19_test.tif: ', [0.8048349727348578, 1.0, 0.0, 0.9170475209116257, 0.0, 0.0])"
       ]
      },
      {
       "output_type": "stream",
       "stream": "stdout",
       "text": [
        "\n",
        "('Testing metrics 20_test.tif: ', [0.7996779228754891, 1.0, 0.0, 0.9264607831252273, 0.0, 0.0])"
       ]
      },
      {
       "output_type": "stream",
       "stream": "stdout",
       "text": [
        "\n",
        "('Final metrics: ', array([0.78560405, 1.        , 0.        , 0.91242196, 0.        ,\n",
        "       0.        ]))\n"
       ]
      }
     ],
     "prompt_number": 28
    },
    {
     "cell_type": "code",
     "collapsed": false,
     "input": [],
     "language": "python",
     "metadata": {},
     "outputs": []
    }
   ],
   "metadata": {}
  }
 ]
}