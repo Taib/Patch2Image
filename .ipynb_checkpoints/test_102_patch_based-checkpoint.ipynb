{
 "metadata": {
  "kernelspec": {
   "display_name": "Python 2",
   "language": "python",
   "name": "python2"
  },
  "language_info": {
   "codemirror_mode": {
    "name": "ipython",
    "version": 2
   },
   "file_extension": ".py",
   "mimetype": "text/x-python",
   "name": "python",
   "nbconvert_exporter": "python",
   "pygments_lexer": "ipython2",
   "version": "2.7.15rc1"
  },
  "name": "",
  "signature": "sha256:ec019d67d76123d13c02f2f01e70c0af7ea8e21ba60b1a4f2aca549babed0efa"
 },
 "nbformat": 3,
 "nbformat_minor": 0,
 "worksheets": [
  {
   "cells": [
    {
     "cell_type": "markdown",
     "metadata": {},
     "source": [
      "# Test Patch based methods\n",
      "\n",
      "---"
     ]
    },
    {
     "cell_type": "markdown",
     "metadata": {},
     "source": []
    },
    {
     "cell_type": "code",
     "collapsed": false,
     "input": [
      "import os\n",
      "import time\n",
      "import numpy as np\n",
      "import tensorflow as tf\n",
      "from skimage import transform\n",
      "\n",
      "from routines import (fixed_patch_ids_creation, misc_metrics, read_df, _process_img, _process_pathnames, get_patch_generator)\n",
      "from networks import get_net\n",
      "from plotting import plot_images, plt"
     ],
     "language": "python",
     "metadata": {},
     "outputs": [],
     "prompt_number": 17
    },
    {
     "cell_type": "code",
     "collapsed": false,
     "input": [
      "BASE_PATH = os.path.expanduser(\"~/PhD/python/patch2image/\")  \n",
      "DATA_SET = 'IDRiD'\n",
      "DATA_DIR = os.path.expanduser(\"~/PhD/Datasets/\"+DATA_SET+\"/\") \n",
      "\n",
      "test_names_file = os.path.join(BASE_PATH, 'datasets', DATA_SET, 'test_names.txt') \n",
      "model_name = 'seg_102_idrid_bce_dice_gray_clahe_gamma_munet_save_model.hdf5'\n",
      "model_path = os.path.join(BASE_PATH, 'trained_models', DATA_SET, model_name)\n",
      "\n",
      "\n",
      "image_shapes_dict = {'STARE': (508, 600, 1), 'CHASE': (460, 500, 1), 'IDRiD': (284, 428, 1), 'DRIVE': (584, 568, 1)}\n",
      "image_shape = image_shapes_dict[DATA_SET]\n",
      "p_shape = (32, 32, 1)\n",
      "clahe    = 1\n",
      "gray     = 1\n",
      "gamma   = 1.7\n",
      "p_stride = 8\n",
      "batch_size = 32\n",
      "net_name = 'munet'"
     ],
     "language": "python",
     "metadata": {},
     "outputs": [],
     "prompt_number": 10
    },
    {
     "cell_type": "code",
     "collapsed": false,
     "input": [
      "model = get_net(net_name=net_name, in_shape=p_shape)\n",
      "model.load_weights(model_path)"
     ],
     "language": "python",
     "metadata": {},
     "outputs": [],
     "prompt_number": 11
    },
    {
     "cell_type": "code",
     "collapsed": false,
     "input": [
      "x_test_paths, y_test_paths = read_df(test_names_file, DATA_DIR)\n",
      "seg_metrics = []\n",
      "preds = []\n",
      "cnts = []\n",
      "gts = []\n",
      "times = []\n",
      "k = 0\n",
      "for x_path, y_path in zip(x_test_paths, y_test_paths): \n",
      "    test_ids = fixed_patch_ids_creation([x_path], [y_path], spatial_shape=image_shape[:2],\n",
      "                                    p_stride=2, shuffle=False)      \n",
      "    test_gen = get_patch_generator(test_ids, p_shape=p_shape, batch_size=batch_size,\n",
      "                        gamma=gamma, clahe=clahe, gray=gray, resize=image_shape[:2])  \n",
      "\n",
      "    tic = time.time()\n",
      "    patches = model.predict_generator(test_gen, steps=len(test_ids)//batch_size, verbose=1)\n",
      "\n",
      "    merge = np.zeros(image_shape, dtype='float')\n",
      "    merge = np.pad(merge, ((p_shape[0]//2,), (p_shape[1]//2,), (0,)), mode='reflect')\n",
      "    cnt   = np.zeros_like(merge)\n",
      "    for p, patch in enumerate(patches):\n",
      "        x_p, y_p = test_ids[p][2:].astype(int)\n",
      "        merge[x_p:x_p+p_shape[0], y_p:y_p+p_shape[1]] += patch \n",
      "        cnt[x_p:x_p+p_shape[0], y_p:y_p+p_shape[1]] += 1\n",
      "\n",
      "    merge[cnt!=0] = merge[cnt!=0]/cnt[cnt!=0] \n",
      "    merge = merge[p_shape[0]//2:-p_shape[0]//2, p_shape[1]//2:-p_shape[1]//2] \n",
      "    times.append(time.time() - tic)\n",
      "\n",
      "    _, gt = _process_pathnames(x_path, y_path)  # gt is not resized here. It has the initial size provided by the database\n",
      "    pred = transform.resize(np.squeeze(merge), np.squeeze(gt).shape) # the prediction needs to be resized back to the initial size\n",
      "    preds.append(pred)\n",
      "    gt = np.squeeze(gt)\n",
      "    seg_metrics.append(misc_metrics(gt, preds[-1])) \n",
      "    print(\"PATCH\", model_name, x_test_paths[k].split('/')[-1],\": \", seg_metrics[-1]) \n",
      "    r = np.mean(seg_metrics,0)\n",
      "    k += 1\n",
      "print('PATCH>>> Final for ', model_name, ': ',\n",
      "  'AUC={0:.4f}, Spec={1:.4f}, Sens={2:.4f}, Acc={3:.4f}, Dice={4:.4f}, Jac={5:.4f}'.format(r[0], r[1], r[2], r[3], r[4], r[5]),\n",
      "  ', Mean time: {:.4f}'.format(np.mean(times))) \n"
     ],
     "language": "python",
     "metadata": {},
     "outputs": []
    },
    {
     "cell_type": "markdown",
     "metadata": {},
     "source": []
    }
   ],
   "metadata": {}
  }
 ]
}