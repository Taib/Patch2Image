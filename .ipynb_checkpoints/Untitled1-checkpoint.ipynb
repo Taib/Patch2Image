{
 "metadata": {
  "name": "",
  "signature": "sha256:534bea6f68bdd83537b8f33893b58eb810deac367e5fa4fed4f52e574a8f444c"
 },
 "nbformat": 3,
 "nbformat_minor": 0,
 "worksheets": []
}